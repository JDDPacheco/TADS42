{
 "cells": [
  {
   "cell_type": "code",
   "execution_count": 1,
   "id": "05a0fab7-0b5d-4d23-8214-5ce717e23860",
   "metadata": {},
   "outputs": [],
   "source": [
    "# computador do IFAM\n",
    "path_local = 'D:/Salve_Aqui_Seus_Arquivos/DIOGO/'"
   ]
  },
  {
   "cell_type": "code",
   "execution_count": null,
   "id": "7c477c00-381d-477b-8cc6-84afc2457086",
   "metadata": {},
   "outputs": [],
   "source": [
    "# computador de casa\n",
    "path_local = 'C:/Users/josed/TADS-IFAM/'"
   ]
  },
  {
   "cell_type": "code",
   "execution_count": 2,
   "id": "c365bbb3-5c0d-474f-b355-29cfa1c1dde5",
   "metadata": {},
   "outputs": [],
   "source": [
    "path = path_local + 'TADS42/TETI/imagens/'"
   ]
  },
  {
   "cell_type": "code",
   "execution_count": 3,
   "id": "84544fb4-bbf2-40b5-8ad5-f3351bebcb64",
   "metadata": {},
   "outputs": [],
   "source": [
    "import numpy as np\n",
    "import matplotlib.pyplot as plt\n",
    "from PIL import Image, ImageOps\n",
    "%matplotlib inline\n",
    "import cv2"
   ]
  },
  {
   "cell_type": "code",
   "execution_count": 4,
   "id": "fd601b49-2b13-4b70-9642-3716152c4910",
   "metadata": {},
   "outputs": [],
   "source": [
    "video = path + 'mont_russa.mp4'"
   ]
  },
  {
   "cell_type": "code",
   "execution_count": 8,
   "id": "f45048df-3ce5-425b-890b-75ded2190638",
   "metadata": {},
   "outputs": [],
   "source": [
    "k_laplace = np.array([[0,1,0],[1,-4,1],[0,1,0]], dtype = np.float32)\n",
    "\n",
    "modo = 'color'\n",
    "\n",
    "cap = cv2.VideoCapture(video)\n",
    "while True:\n",
    "    ret, frame = cap.read()\n",
    "    if not ret:\n",
    "        cap.set(cv2.CAP_PROP_POS_FRAMES, 0)\n",
    "        continue\n",
    "    if modo == 'gray':\n",
    "        frame_alterado = cv2.cvtColor(frame, cv2.COLOR_BGR2GRAY)\n",
    "    elif modo == 'binary':\n",
    "        gray = cv2.cvtColor(frame, cv2.COLOR_BGR2GRAY)\n",
    "        _, frame_alterado = cv2.threshold(gray, 120, 255, cv2.THRESH_BINARY)\n",
    "    elif modo == 'laplace':\n",
    "        gray = cv2.cvtColor(frame, cv2.COLOR_BGR2GRAY)\n",
    "        frame_alterado = cv2.filter2D(gray, -1, k_laplace)\n",
    "    else:\n",
    "        frame_alterado = frame\n",
    "    cv2.imshow('Frame', frame_alterado)\n",
    "\n",
    "    key = cv2.waitKey(1000) & 0xFF\n",
    "\n",
    "    if key == ord('g'):\n",
    "        modo = 'gray'\n",
    "    \n",
    "    elif key == ord('b'):\n",
    "        modo = 'binary'\n",
    "    \n",
    "    elif key == ord('c'):\n",
    "        modo = 'color'\n",
    "    \n",
    "    elif key == ord('l'):\n",
    "        modo = 'laplace'\n",
    "    \n",
    "    elif key == ord('q'):\n",
    "        break\n",
    "\n",
    "cap.release()\n",
    "cv2.destroyAllWindows()"
   ]
  },
  {
   "cell_type": "code",
   "execution_count": null,
   "id": "39c8783a-d6f3-4f85-9811-20bbeb68b57f",
   "metadata": {},
   "outputs": [],
   "source": []
  }
 ],
 "metadata": {
  "kernelspec": {
   "display_name": "Python 3 (ipykernel)",
   "language": "python",
   "name": "python3"
  },
  "language_info": {
   "codemirror_mode": {
    "name": "ipython",
    "version": 3
   },
   "file_extension": ".py",
   "mimetype": "text/x-python",
   "name": "python",
   "nbconvert_exporter": "python",
   "pygments_lexer": "ipython3",
   "version": "3.10.15"
  }
 },
 "nbformat": 4,
 "nbformat_minor": 5
}
