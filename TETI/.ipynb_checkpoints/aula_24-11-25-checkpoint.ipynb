{
 "cells": [
  {
   "cell_type": "code",
   "execution_count": 1,
   "id": "f6bdd2f1-ad9d-4c6d-a519-e78e636b6f23",
   "metadata": {},
   "outputs": [],
   "source": [
    "import os\n",
    "import pandas as pd\n",
    "import tensorflow as tf\n",
    "from tensorflow.keras.applications.resnet50 import ResNet50, preprocess_input\n",
    "from tensorflow.keras.preprocessing.image import ImageDataGenerator\n",
    "from tensorflow.keras.layers import Dense, GlobalAveragePooling2D\n",
    "from sklearn.model_selection import train_test_split"
   ]
  },
  {
   "cell_type": "code",
   "execution_count": 2,
   "id": "01b041ba-e48d-4ed1-b3bb-f12c375678b0",
   "metadata": {},
   "outputs": [],
   "source": [
    "num_classes = 2"
   ]
  },
  {
   "cell_type": "code",
   "execution_count": 3,
   "id": "a8efe7f8-ca5d-4500-a0a3-fa9d100085ec",
   "metadata": {},
   "outputs": [
    {
     "name": "stdout",
     "output_type": "stream",
     "text": [
      "Downloading data from https://storage.googleapis.com/tensorflow/keras-applications/resnet/resnet50_weights_tf_dim_ordering_tf_kernels_notop.h5\n",
      "94765736/94765736 [==============================] - 4s 0us/step\n"
     ]
    }
   ],
   "source": [
    "modelo_base = ResNet50(weights = 'imagenet', include_top = False,\n",
    "                      input_shape = (224, 224, 3))"
   ]
  },
  {
   "cell_type": "code",
   "execution_count": 4,
   "id": "2935ea23-e256-465f-bf39-664e3ff3bde3",
   "metadata": {},
   "outputs": [],
   "source": [
    "modelo = tf.keras.Sequential(\n",
    "    [modelo_base,\n",
    "    GlobalAveragePooling2D(),\n",
    "    Dense(1024, activation = 'relu'),\n",
    "    Dense(num_classes, activation = 'softmax')\n",
    "    ])"
   ]
  },
  {
   "cell_type": "code",
   "execution_count": 6,
   "id": "7c69467b-aa87-46ae-b818-6fab1d804e66",
   "metadata": {},
   "outputs": [],
   "source": [
    "modelo.compile(optimizer = tf.keras.optimizers.Adam(learning_rate=0.001),\n",
    "              loss = 'categorical_crossentropy',\n",
    "              metrics = ['accuracy'])"
   ]
  },
  {
   "cell_type": "code",
   "execution_count": 7,
   "id": "20c23286-60e2-4bc6-bf2c-162018dc8a26",
   "metadata": {},
   "outputs": [],
   "source": [
    "# computador do IFAM\n",
    "path_local = 'D:/Salve_Aqui_Seus_Arquivos/DIOGO/'"
   ]
  },
  {
   "cell_type": "code",
   "execution_count": 15,
   "id": "b657c757-80fc-43eb-8db7-bd480c25ea86",
   "metadata": {},
   "outputs": [],
   "source": [
    "path = path_local + 'TADS42/TETI/imagens/dc_small/'"
   ]
  },
  {
   "cell_type": "code",
   "execution_count": 18,
   "id": "ef9d529e-c18b-49c1-a974-4e289c8d7200",
   "metadata": {},
   "outputs": [],
   "source": [
    "def criar_dataframe(caminho):\n",
    "    arquivos = []\n",
    "    rotulos = []\n",
    "    for arquivo in os.listdir(caminho):\n",
    "        if arquivo.startswith('cat'):\n",
    "            rotulos.append('cat')\n",
    "        elif arquivo.startswith('dog'):\n",
    "            rotulos.append('dog')\n",
    "        arquivos.append(arquivo)\n",
    "    return pd.DataFrame({'arquivo': arquivos, 'rotulo': rotulos})"
   ]
  },
  {
   "cell_type": "code",
   "execution_count": 19,
   "id": "3934218c-24b3-468f-80e1-74898394d36c",
   "metadata": {},
   "outputs": [],
   "source": [
    "df_dados = criar_dataframe(os.path.join(path, 'train'))"
   ]
  },
  {
   "cell_type": "code",
   "execution_count": 23,
   "id": "44429b4f-0ac7-42bf-9391-f1d1789854e3",
   "metadata": {},
   "outputs": [],
   "source": [
    "train_df, validation_df = train_test_split(df_dados, test_size = 0.3, stratify = df_dados['rotulo'])"
   ]
  },
  {
   "cell_type": "code",
   "execution_count": 24,
   "id": "de8f1786-5ec1-47f5-9e28-e9571e3561b5",
   "metadata": {},
   "outputs": [],
   "source": [
    "test_df = criar_dataframe(os.path.join(path, 'test'))"
   ]
  },
  {
   "cell_type": "code",
   "execution_count": 25,
   "id": "d682c2b1-7f87-4952-a934-c458ec61a735",
   "metadata": {
    "jupyter": {
     "source_hidden": true
    }
   },
   "outputs": [],
   "source": [
    "train_datagen = ImageDataGenerator(preprocessing_function = preprocess_input)\n",
    "validation_datagen = ImageDataGenerator(preprocessing_function = preprocess_input)\n",
    "test_datagen = ImageDataGenerator(preprocessing_function = preprocess_input)"
   ]
  },
  {
   "cell_type": "code",
   "execution_count": 27,
   "id": "f0f94e10-39ac-4fde-aa3a-999d0ccfe795",
   "metadata": {},
   "outputs": [
    {
     "name": "stdout",
     "output_type": "stream",
     "text": [
      "Found 1400 validated image filenames belonging to 2 classes.\n"
     ]
    }
   ],
   "source": [
    "train_generator = train_datagen.flow_from_dataframe(\n",
    "    train_df,\n",
    "    directory = os.path.join(path, 'train'),\n",
    "    x_col = 'arquivo',\n",
    "    y_col = 'rotulo',\n",
    "    target_size = (224, 224),\n",
    "    batch_size = 128,\n",
    "    class_mode = 'categorical'\n",
    ")"
   ]
  },
  {
   "cell_type": "code",
   "execution_count": 28,
   "id": "030cf400-d50c-412f-9324-ad61c6dfe92a",
   "metadata": {},
   "outputs": [
    {
     "name": "stdout",
     "output_type": "stream",
     "text": [
      "Found 600 validated image filenames belonging to 2 classes.\n"
     ]
    }
   ],
   "source": [
    "validation_generator = validation_datagen.flow_from_dataframe(\n",
    "    validation_df,\n",
    "    directory = os.path.join(path, 'train'),\n",
    "    x_col = 'arquivo',\n",
    "    y_col = 'rotulo',\n",
    "    target_size = (224, 224),\n",
    "    batch_size = 128,\n",
    "    class_mode = 'categorical'\n",
    ")"
   ]
  },
  {
   "cell_type": "code",
   "execution_count": null,
   "id": "ac92ffe4-1a65-4001-9004-eaf51859c00f",
   "metadata": {},
   "outputs": [
    {
     "name": "stdout",
     "output_type": "stream",
     "text": [
      "Epoch 1/10\n"
     ]
    }
   ],
   "source": [
    "modelo.fit(\n",
    "    train_generator,\n",
    "    steps_per_epoch = train_generator.samples//train_generator.batch_size,\n",
    "    validation_data = validation_generator,\n",
    "    validation_steps = validation_generator.samples//validation_generator.batch_size,\n",
    "    epochs=10\n",
    ")"
   ]
  },
  {
   "cell_type": "code",
   "execution_count": null,
   "id": "1f2b9baa-b3f4-4697-b4a2-c0c1851a8f11",
   "metadata": {},
   "outputs": [],
   "source": []
  }
 ],
 "metadata": {
  "kernelspec": {
   "display_name": "Python 3 (ipykernel)",
   "language": "python",
   "name": "python3"
  },
  "language_info": {
   "codemirror_mode": {
    "name": "ipython",
    "version": 3
   },
   "file_extension": ".py",
   "mimetype": "text/x-python",
   "name": "python",
   "nbconvert_exporter": "python",
   "pygments_lexer": "ipython3",
   "version": "3.10.15"
  }
 },
 "nbformat": 4,
 "nbformat_minor": 5
}
