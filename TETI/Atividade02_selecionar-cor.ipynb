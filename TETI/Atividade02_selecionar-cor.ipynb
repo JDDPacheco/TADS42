{
 "cells": [
  {
   "cell_type": "code",
   "execution_count": 1,
   "id": "2756cfde-5a6a-436c-8631-f27bf4f1fb6d",
   "metadata": {},
   "outputs": [],
   "source": [
    "# computador do IFAM\n",
    "path_local = 'D:/Salve_Aqui_Seus_Arquivos/DIOGO/'"
   ]
  },
  {
   "cell_type": "code",
   "execution_count": 1,
   "id": "7d7f17ce-36d2-4eb5-908e-4ea46331203f",
   "metadata": {},
   "outputs": [],
   "source": [
    "# computador de casa\n",
    "path_local = 'C:/Users/josed/TADS-IFAM/'"
   ]
  },
  {
   "cell_type": "code",
   "execution_count": 2,
   "id": "2d924d5b-4555-495f-96cc-ab1fe954a9a6",
   "metadata": {},
   "outputs": [],
   "source": [
    "path_img = path_local + 'TADS42/TETI/imagens/'"
   ]
  },
  {
   "cell_type": "code",
   "execution_count": 3,
   "id": "9366ef5c-0cfb-4e75-96de-87119295a282",
   "metadata": {},
   "outputs": [],
   "source": [
    "import cv2\n",
    "import numpy as np"
   ]
  },
  {
   "cell_type": "code",
   "execution_count": 69,
   "id": "3a113c58-3cc7-4424-825a-e9a8a97aa0d5",
   "metadata": {},
   "outputs": [],
   "source": [
    "im = cv2.imread(path_img + 'lena_ruido_gaussiano.jpeg')"
   ]
  },
  {
   "cell_type": "code",
   "execution_count": 36,
   "id": "afeef528-5654-4167-90c3-1e4a5b42398c",
   "metadata": {},
   "outputs": [],
   "source": [
    "im = cv2.imread(path_img + 'papagaio_amarelo.jpg')"
   ]
  },
  {
   "cell_type": "code",
   "execution_count": 5,
   "id": "c7b9d977-a2f9-4705-94f3-ce4a5166c469",
   "metadata": {},
   "outputs": [],
   "source": [
    "def escrever_opcoes():\n",
    "    print(\"Tabela de cores para destaque na imagem:\\n\")\n",
    "    print(\"COR\\t\\tCÓDIGO\")\n",
    "    print(\"Vermelho\\tR\")\n",
    "    print(\"Laranja\\t\\tO\")\n",
    "    print(\"Amarelo\\t\\tY\")\n",
    "    print(\"Verde\\t\\tG\")\n",
    "    print(\"Azul\\t\\tB\")\n",
    "    print(\"Violeta\\t\\tV\")\n",
    "    print(\"Rosa\\t\\tP\")\n",
    "    print(\"Branco\\t\\tW\")"
   ]
  },
  {
   "cell_type": "code",
   "execution_count": 64,
   "id": "920c0cb6-ef8c-4b89-9dc6-dec90d713d06",
   "metadata": {},
   "outputs": [],
   "source": [
    "def definir_mascara_cor(img, codigo):\n",
    "    if codigo.lower() == 'r':\n",
    "        # Faixa baixa do vermelho (0-8)\n",
    "        lim_inf1 = np.array([0, 50, 50])\n",
    "        lim_sup1 = np.array([8, 255, 255])\n",
    "        # Faixa alta do vermelho (160-179)\n",
    "        lim_inf2 = np.array([160, 50, 50])\n",
    "        lim_sup2 = np.array([179, 255, 255])\n",
    "    elif codigo.lower() == 'o':\n",
    "        lim_inf = np.array([9, 50, 50])\n",
    "        lim_sup = np.array([18, 255, 255])\n",
    "    elif codigo.lower() == 'y':\n",
    "        lim_inf = np.array([19, 50, 50])\n",
    "        lim_sup = np.array([31, 255, 255])\n",
    "    elif codigo.lower() == 'g':\n",
    "        lim_inf = np.array([32, 50, 50])\n",
    "        lim_sup = np.array([82, 255, 255])\n",
    "    elif codigo.lower() == 'b':\n",
    "        lim_inf = np.array([83, 50, 50])\n",
    "        lim_sup = np.array([122, 255, 255])\n",
    "    elif codigo.lower() == 'v':\n",
    "        lim_inf = np.array([123, 50, 50])\n",
    "        lim_sup = np.array([142, 255, 255])\n",
    "    elif codigo.lower() == 'p':\n",
    "        lim_inf = np.array([143, 50, 50])\n",
    "        lim_sup = np.array([159, 255, 255])\n",
    "    elif codigo.lower() == 'w':\n",
    "        lim_inf = np.array([0, 0, 215])\n",
    "        lim_sup = np.array([179, 50, 255])\n",
    "    else:\n",
    "        print('Cor Inválida!')\n",
    "        lim_inf = np.array([0, 0, 0])\n",
    "        lim_sup = np.array([179, 255, 255])\n",
    "\n",
    "    im_hsv = cv2.cvtColor(img, cv2.COLOR_BGR2HSV)\n",
    "\n",
    "    # Se for vermelho, precisamos combinar duas máscaras\n",
    "    if codigo.lower() == 'r':\n",
    "        mask1 = cv2.inRange(im_hsv, lim_inf1, lim_sup1)  # Faixa baixa\n",
    "        mask2 = cv2.inRange(im_hsv, lim_inf2, lim_sup2)  # Faixa alta\n",
    "        mask = cv2.bitwise_or(mask1, mask2)  # Combina as duas máscaras\n",
    "    else:\n",
    "        mask = cv2.inRange(im_hsv, lim_inf, lim_sup)\n",
    "\n",
    "    return mask"
   ]
  },
  {
   "cell_type": "code",
   "execution_count": null,
   "id": "b13e5c71-d846-4884-bc8c-57837a110778",
   "metadata": {},
   "outputs": [
    {
     "name": "stdout",
     "output_type": "stream",
     "text": [
      "Tabela de cores para destaque na imagem:\n",
      "\n",
      "COR\t\tCÓDIGO\n",
      "Vermelho\tR\n",
      "Laranja\t\tO\n",
      "Amarelo\t\tY\n",
      "Verde\t\tG\n",
      "Azul\t\tB\n",
      "Violeta\t\tV\n",
      "Rosa\t\tP\n",
      "Branco\t\tW\n"
     ]
    },
    {
     "name": "stdin",
     "output_type": "stream",
     "text": [
      "Escolha a cor: b\n"
     ]
    }
   ],
   "source": [
    "escrever_opcoes()\n",
    "cor = input('Escolha a cor:')\n",
    "mask = definir_mascara_cor(im, cor)\n",
    "resultado = cv2.bitwise_and(im, im, mask = mask)\n",
    "cv2.imshow('Cor detectada', np.hstack((im, resultado)))\n",
    "cv2.waitKey(0)\n",
    "cv2.destroyAllWindows()"
   ]
  },
  {
   "cell_type": "code",
   "execution_count": null,
   "id": "96efa035-38c2-4a1b-81ee-aafc72c0931a",
   "metadata": {},
   "outputs": [],
   "source": []
  }
 ],
 "metadata": {
  "kernelspec": {
   "display_name": "Python 3 (ipykernel)",
   "language": "python",
   "name": "python3"
  },
  "language_info": {
   "codemirror_mode": {
    "name": "ipython",
    "version": 3
   },
   "file_extension": ".py",
   "mimetype": "text/x-python",
   "name": "python",
   "nbconvert_exporter": "python",
   "pygments_lexer": "ipython3",
   "version": "3.10.15"
  }
 },
 "nbformat": 4,
 "nbformat_minor": 5
}
